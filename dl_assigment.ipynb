{
  "nbformat": 4,
  "nbformat_minor": 0,
  "metadata": {
    "colab": {
      "private_outputs": true,
      "provenance": [],
      "authorship_tag": "ABX9TyPGJOwX+7NAPr660MVZrack",
      "include_colab_link": true
    },
    "kernelspec": {
      "name": "python3",
      "display_name": "Python 3"
    },
    "language_info": {
      "name": "python"
    }
  },
  "cells": [
    {
      "cell_type": "markdown",
      "metadata": {
        "id": "view-in-github",
        "colab_type": "text"
      },
      "source": [
        "<a href=\"https://colab.research.google.com/github/Yoga88pasumani/dl-assigment/blob/main/dl_assigment.ipynb\" target=\"_parent\"><img src=\"https://colab.research.google.com/assets/colab-badge.svg\" alt=\"Open In Colab\"/></a>"
      ]
    },
    {
      "cell_type": "code",
      "execution_count": null,
      "metadata": {
        "id": "2Pseh0pJgtPB"
      },
      "outputs": [],
      "source": [
        "# importing libraries\n",
        "import pandas as pd\n",
        "import scipy\n",
        "import numpy as np\n",
        "from sklearn.preprocessing import MinMaxScaler\n",
        "import seaborn as sns\n",
        "import matplotlib.pyplot as plt\n",
        "from sklearn.model_selection import train_test_split\n",
        "from sklearn.metrics import mean_squared_error\n",
        "from sklearn.metrics import roc_curve, roc_auc_score, precision_recall_curve, confusion_matrix, ConfusionMatrixDisplay"
      ]
    },
    {
      "cell_type": "code",
      "source": [
        "# Load the dataset\n",
        "df = pd.read_csv('/content/9ef84268-d588-465a-a308-a864a43d0070.csv')\n",
        "print(df.head())"
      ],
      "metadata": {
        "id": "Rm53zQMihDRW"
      },
      "execution_count": null,
      "outputs": []
    },
    {
      "cell_type": "code",
      "source": [
        "#describing the dataset\n",
        "df.describe()"
      ],
      "metadata": {
        "id": "YzGctHsOhYGe"
      },
      "execution_count": null,
      "outputs": []
    },
    {
      "cell_type": "code",
      "source": [
        "df.info()"
      ],
      "metadata": {
        "id": "mIJrRKu6he1t"
      },
      "execution_count": null,
      "outputs": []
    },
    {
      "cell_type": "code",
      "source": [
        "df.isnull().sum()\n"
      ],
      "metadata": {
        "id": "KBT7LFMgiKAe"
      },
      "execution_count": null,
      "outputs": []
    },
    {
      "cell_type": "code",
      "source": [
        "# EDA\n",
        "#univariate analysis Distribution of Modal Price\n",
        "plt.figure(figsize=(12,6))\n",
        "sns.histplot(df['Min_x0020_Price'], kde=True, bins=30, color='red')\n",
        "plt.title('Distribution of Minimum Price')\n",
        "plt.show()"
      ],
      "metadata": {
        "id": "zVoA3CkejRuO"
      },
      "execution_count": null,
      "outputs": []
    },
    {
      "cell_type": "code",
      "source": [
        "# Univariate analysis - Distribution of Min and Max Prices\n",
        "plt.figure(figsize=(10,6))\n",
        "sns.histplot(df['Min_x0020_Price'], kde=True, bins=30, color='green')\n",
        "plt.title('Distribution of Minimum Price')\n",
        "plt.xlabel('Min Price')\n",
        "plt.ylabel('Frequency')\n",
        "plt.show()\n"
      ],
      "metadata": {
        "id": "XO9LFGtolQ-V"
      },
      "execution_count": null,
      "outputs": []
    },
    {
      "cell_type": "code",
      "source": [
        " # Bivariate analysis - Boxplot of Modal Price by Commodity\n",
        "plt.figure(figsize=(10,5))\n",
        "sns.boxplot(x='Commodity', y='Modal_x0020_Price', data=df)\n",
        "plt.xticks(rotation=90)\n",
        "plt.title('Modal Price by Commodity')\n",
        "plt.xlabel('Commodity')\n",
        "plt.ylabel('Modal Price')\n",
        "plt.show()\n"
      ],
      "metadata": {
        "id": "WHj1PK2OmJf4"
      },
      "execution_count": null,
      "outputs": []
    },
    {
      "cell_type": "code",
      "source": [
        "# Bivariate analysis - Scatter plot of Min vs Max Price\n",
        "plt.figure(figsize=(10,6))\n",
        "sns.scatterplot(x='Min_x0020_Price', y='Max_x0020_Price', data=df, color='red')\n",
        "plt.title('Min Price vs Max Price')\n",
        "plt.xlabel('Min Price')\n",
        "plt.ylabel('Max Price')\n",
        "plt.show()\n"
      ],
      "metadata": {
        "id": "9WF3o2YemfAl"
      },
      "execution_count": null,
      "outputs": []
    },
    {
      "cell_type": "code",
      "source": [
        "# Multivariate analysis - Pairplot for Min, Max, and Modal Prices\n",
        "sns.pairplot(df[['Min_x0020_Price', 'Max_x0020_Price', 'Modal_x0020_Price']], diag_kind='kde')\n",
        "plt.show()\n"
      ],
      "metadata": {
        "id": "PYtqIWL5mwg_"
      },
      "execution_count": null,
      "outputs": []
    },
    {
      "cell_type": "code",
      "source": [
        "from sklearn.metrics import roc_curve, roc_auc_score, precision_recall_curve, confusion_matrix, ConfusionMatrixDisplay\n",
        "\n",
        "# Make class predictions\n",
        "y_pred = model.predict(X_test)\n",
        "y_pred_proba = model.predict_proba(X_test)[:, 1]  # Probability of class 1\n",
        "\n",
        "# ROC Curve\n",
        "fpr, tpr, _ = roc_curve(y_test, y_pred_proba)\n",
        "roc_auc = roc_auc_score(y_test, y_pred_proba)\n",
        "plt.figure(figsize=(10,6))\n",
        "plt.plot(fpr, tpr, color='blue', label=f'ROC curve (AUC = {roc_auc:.2f})')\n",
        "plt.plot([0, 1], [0, 1], color='grey', linestyle='--')\n",
        "plt.xlabel('False Positive Rate')\n",
        "plt.ylabel('True Positive Rate')\n",
        "plt.title('ROC Curve')\n",
        "plt.legend(loc='lower right')\n",
        "plt.show()\n",
        "\n",
        "# Precision-Recall Curve\n",
        "precision, recall, _ = precision_recall_curve(y_test, y_pred_proba)\n",
        "plt.figure(figsize=(10,6))\n",
        "plt.plot(recall, precision, color='green')\n",
        "plt.xlabel('Recall')\n",
        "plt.ylabel('Precision')\n",
        "plt.title('Precision-Recall Curve')\n",
        "plt.show()\n",
        "\n",
        "# Confusion Matrix\n",
        "cm = confusion_matrix(y_test, y_pred)\n",
        "disp = ConfusionMatrixDisplay(confusion_matrix=cm, display_labels=model.classes_)\n",
        "disp.plot(cmap='Blues', values_format='d')\n",
        "plt.title('Confusion Matrix')\n",
        "plt.show()\n",
        "# Calculate accuracy\n",
        "accuracy = accuracy_score(y_test, y_pred)\n",
        "print(\"Accuracy:\", accuracy)\n",
        "\n",
        "\n",
        "\n"
      ],
      "metadata": {
        "id": "ppFH9LO2yhk5"
      },
      "execution_count": null,
      "outputs": []
    },
    {
      "cell_type": "code",
      "source": [],
      "metadata": {
        "id": "D7uEpM8pz0zp"
      },
      "execution_count": null,
      "outputs": []
    }
  ]
}